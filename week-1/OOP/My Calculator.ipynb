{
 "cells": [
  {
   "cell_type": "code",
   "execution_count": 1,
   "metadata": {},
   "outputs": [],
   "source": [
    "import math #importing math module to do square roots\n",
    "class Calculator:\n",
    "    def __init__(self, data):\n",
    "        self.data = data\n",
    "        self.update_stats()\n",
    "#         self.length = len(data)  HERE WE ARE REFACTORING. WE BUILD THIS ORIGINALLY TO DO THE MATH\n",
    "#         self.mean = self.__calc_mean()  BUT WE HAVE NOW INSTEAD TOLD THE PROGRAM TO GO LOOK AT THE MATH\n",
    "#         self.median = self.__calc_med()  WE WOULD HAVE DONE ANYWAYS WHEN WE RUN THE UPDATE_STATS FUNCTION\n",
    "#         self.variance = self.__calc_var()\n",
    "#         self.standev = self.__calc_standev()\n",
    "    \n",
    "    def __calc_mean(self): #THE __ IN FRONT ALLOWS US TO HIDE THE FUNCTION AND REFER TO MEAN ITSELF INSTEAD OF CALC_MEAN\n",
    "        return round(sum(self.data) / len(self.data), 2)\n",
    "    \n",
    "    def __calc_med(self):\n",
    "        mid = len(self.data)/2\n",
    "        if len(self.data)%2 == 0:  #THE %2 DIVIDES SOMETHING BY TWO TO FIND A REMINDER, IF WE SET IT ==0 TO TEST IF IT IS EVEN OR ODD\n",
    "            return (self.data[int(mid + .5)] + self.data[int(mid - .5)])/2\n",
    "        else: return self.data[int(mid - .5)]\n",
    "        \n",
    "    def __calc_var(self):\n",
    "        sum = 0\n",
    "        for i in data:\n",
    "            sum += (i - self.mean)**2\n",
    "        return round(sum / (len(self.data)-1), 2)\n",
    "    \n",
    "    def __calc_standev(self):\n",
    "        return round(math.sqrt(self.variance), 2)\n",
    "    \n",
    "    def add_data(self, data):\n",
    "        # add new data and sort it\n",
    "        self.data.extend(data)\n",
    "        self.data.sort()\n",
    "        # re-run all stats calcs on new data\n",
    "        self.update_stats()\n",
    "    \n",
    "    def remove_data(self, item):\n",
    "        self.data.remove(item)\n",
    "        self.update_stats()\n",
    "    \n",
    "    def update_stats(self):\n",
    "        # assumes data has been set or re-set\n",
    "        self.length = len(self.data)\n",
    "        self.mean = self.__calc_mean()\n",
    "        self.median = self.__calc_med()\n",
    "        self.variance = self.__calc_var()\n",
    "        self.standev = self.__calc_standev()"
   ]
  },
  {
   "cell_type": "code",
   "execution_count": null,
   "metadata": {},
   "outputs": [],
   "source": [
    " mid = len(self.data)/2\n",
    "    if len(self.data)%2 == 0:  #THE %2 DIVIDES SOMETHING BY TWO TO FIND A REMINDER, IF WE SET IT ==0 TO TEST IF IT IS EVEN OR ODD\n",
    "         return (self.data[int(mid + .5)] + self.data[int(mid - .5)])/2\n",
    "    else: return self.data[int(mid - .5)]"
   ]
  }
 ],
 "metadata": {
  "kernelspec": {
   "display_name": "Python 3",
   "language": "python",
   "name": "python3"
  },
  "language_info": {
   "codemirror_mode": {
    "name": "ipython",
    "version": 3
   },
   "file_extension": ".py",
   "mimetype": "text/x-python",
   "name": "python",
   "nbconvert_exporter": "python",
   "pygments_lexer": "ipython3",
   "version": "3.7.3"
  }
 },
 "nbformat": 4,
 "nbformat_minor": 2
}
